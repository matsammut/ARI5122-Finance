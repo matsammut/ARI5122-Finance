{
 "cells": [
  {
   "cell_type": "markdown",
   "metadata": {},
   "source": [
    "Q2.1.1.\n",
    "\n",
    "Implementing Mean-Variance Optimization \n",
    "\n",
    "Data Collection:\n",
    "\n",
    "a. Use historical stock price data for at least three assets (e.g., AAPL, MSFT, GOOGL)\n",
    "for the past 3–5 years. You can obtain this data from sources like Yahoo Finance\n",
    "(yfinance library)."
   ]
  },
  {
   "cell_type": "code",
   "execution_count": 27,
   "metadata": {},
   "outputs": [
    {
     "name": "stderr",
     "output_type": "stream",
     "text": [
      "[*********************100%***********************]  3 of 3 completed"
     ]
    },
    {
     "name": "stdout",
     "output_type": "stream",
     "text": [
      "Price                       Adj Close                               Close  \\\n",
      "Ticker                           AAPL       GOOGL        MSFT        AAPL   \n",
      "Date                                                                        \n",
      "2019-02-01 00:00:00+00:00   39.762127   55.728977   96.875175   41.630001   \n",
      "2019-02-04 00:00:00+00:00   40.891582   56.864857   99.665108   42.812500   \n",
      "2019-02-05 00:00:00+00:00   41.591206   57.385471  101.060081   43.544998   \n",
      "2019-02-06 00:00:00+00:00   41.605541   55.941708   99.938446   43.560001   \n",
      "2019-02-07 00:00:00+00:00   40.817543   55.095776   99.222099   42.735001   \n",
      "...                               ...         ...         ...         ...   \n",
      "2024-01-25 00:00:00+00:00  193.223389  151.321442  401.864929  194.169998   \n",
      "2024-01-26 00:00:00+00:00  191.481918  151.640289  400.931885  192.419998   \n",
      "2024-01-29 00:00:00+00:00  190.795288  152.955521  406.678894  191.729996   \n",
      "2024-01-30 00:00:00+00:00  187.123276  150.912933  405.557251  188.039993   \n",
      "2024-01-31 00:00:00+00:00  183.501022  139.593964  394.628998  184.399994   \n",
      "\n",
      "Price                                                    High              \\\n",
      "Ticker                          GOOGL        MSFT        AAPL       GOOGL   \n",
      "Date                                                                        \n",
      "2019-02-01 00:00:00+00:00   55.931000  102.779999   42.244999   56.720001   \n",
      "2019-02-04 00:00:00+00:00   57.070999  105.739998   42.915001   57.117001   \n",
      "2019-02-05 00:00:00+00:00   57.593498  107.220001   43.770000   57.638500   \n",
      "2019-02-06 00:00:00+00:00   56.144501  106.029999   43.892502   57.700001   \n",
      "2019-02-07 00:00:00+00:00   55.295502  105.269997   43.485001   55.599499   \n",
      "...                               ...         ...         ...         ...   \n",
      "2024-01-25 00:00:00+00:00  151.869995  404.869995  196.270004  153.050003   \n",
      "2024-01-26 00:00:00+00:00  152.190002  403.929993  194.759995  152.539993   \n",
      "2024-01-29 00:00:00+00:00  153.509995  409.720001  192.199997  153.779999   \n",
      "2024-01-30 00:00:00+00:00  151.460007  408.589996  191.800003  153.619995   \n",
      "2024-01-31 00:00:00+00:00  140.100006  397.579987  187.100006  144.000000   \n",
      "\n",
      "Price                                         Low                          \\\n",
      "Ticker                           MSFT        AAPL       GOOGL        MSFT   \n",
      "Date                                                                        \n",
      "2019-02-01 00:00:00+00:00  104.099998   41.482498   55.712502  102.349998   \n",
      "2019-02-04 00:00:00+00:00  105.800003   41.820000   55.875500  102.769997   \n",
      "2019-02-05 00:00:00+00:00  107.269997   43.087502   56.180000  105.959999   \n",
      "2019-02-06 00:00:00+00:00  107.000000   43.212502   55.917999  105.529999   \n",
      "2019-02-07 00:00:00+00:00  105.589996   42.584999   54.679501  104.290001   \n",
      "...                               ...         ...         ...         ...   \n",
      "2024-01-25 00:00:00+00:00  407.010010  193.110001  149.539993  402.529999   \n",
      "2024-01-26 00:00:00+00:00  406.170013  191.940002  151.009995  402.429993   \n",
      "2024-01-29 00:00:00+00:00  409.980011  189.580002  151.429993  404.329987   \n",
      "2024-01-30 00:00:00+00:00  413.049988  187.470001  151.190002  406.450012   \n",
      "2024-01-31 00:00:00+00:00  415.320007  184.350006  139.869995  397.209991   \n",
      "\n",
      "Price                            Open                             Volume  \\\n",
      "Ticker                           AAPL       GOOGL        MSFT       AAPL   \n",
      "Date                                                                       \n",
      "2019-02-01 00:00:00+00:00   41.740002   56.114498  103.779999  130672400   \n",
      "2019-02-04 00:00:00+00:00   41.852501   55.950500  102.870003  125982000   \n",
      "2019-02-05 00:00:00+00:00   43.215000   56.481499  106.059998  144406400   \n",
      "2019-02-06 00:00:00+00:00   43.662498   57.463501  107.000000  112958400   \n",
      "2019-02-07 00:00:00+00:00   43.099998   55.591000  105.190002  126966800   \n",
      "...                               ...         ...         ...        ...   \n",
      "2024-01-25 00:00:00+00:00  195.220001  150.070007  404.320007   54822100   \n",
      "2024-01-26 00:00:00+00:00  194.270004  151.100006  404.369995   44594000   \n",
      "2024-01-29 00:00:00+00:00  192.009995  152.059998  406.059998   47145600   \n",
      "2024-01-30 00:00:00+00:00  190.940002  152.800003  412.260010   55859400   \n",
      "2024-01-31 00:00:00+00:00  187.039993  143.619995  406.959991   55467800   \n",
      "\n",
      "Price                                          \n",
      "Ticker                        GOOGL      MSFT  \n",
      "Date                                           \n",
      "2019-02-01 00:00:00+00:00  33116000  35535700  \n",
      "2019-02-04 00:00:00+00:00  78408000  31315100  \n",
      "2019-02-05 00:00:00+00:00  82296000  27325400  \n",
      "2019-02-06 00:00:00+00:00  48256000  20609800  \n",
      "2019-02-07 00:00:00+00:00  38298000  29760700  \n",
      "...                             ...       ...  \n",
      "2024-01-25 00:00:00+00:00  29149100  21021200  \n",
      "2024-01-26 00:00:00+00:00  26115500  17803300  \n",
      "2024-01-29 00:00:00+00:00  27784300  24510200  \n",
      "2024-01-30 00:00:00+00:00  36331800  33477600  \n",
      "2024-01-31 00:00:00+00:00  71910000  47871100  \n",
      "\n",
      "[1258 rows x 18 columns]\n"
     ]
    },
    {
     "name": "stderr",
     "output_type": "stream",
     "text": [
      "\n"
     ]
    }
   ],
   "source": [
    "import yfinance as yf\n",
    "import pandas as pd\n",
    "\n",
    "tickers = [\"AAPL\", \"MSFT\", \"GOOGL\"]\n",
    "start_date = \"2019-02-01\"\n",
    "end_date = \"2024-02-01\"\n",
    "\n",
    "data = yf.download(tickers, start=start_date, end=end_date)\n",
    "print(data)"
   ]
  },
  {
   "cell_type": "markdown",
   "metadata": {},
   "source": [
    "Calculate the daily percentage returns for each stock."
   ]
  },
  {
   "cell_type": "code",
   "execution_count": 28,
   "metadata": {},
   "outputs": [
    {
     "name": "stdout",
     "output_type": "stream",
     "text": [
      "Ticker                         AAPL     GOOGL      MSFT\n",
      "Date                                                   \n",
      "2019-02-04 00:00:00+00:00  0.028405  0.020382  0.028799\n",
      "2019-02-05 00:00:00+00:00  0.017109  0.009155  0.013997\n",
      "2019-02-06 00:00:00+00:00  0.000345 -0.025159 -0.011099\n",
      "2019-02-07 00:00:00+00:00 -0.018940 -0.015122 -0.007168\n",
      "2019-02-08 00:00:00+00:00  0.001175 -0.003192  0.003800\n"
     ]
    }
   ],
   "source": [
    "tickers_close =  data['Adj Close']\n",
    "returns = tickers_close.pct_change().dropna()\n",
    "print(returns.head())"
   ]
  },
  {
   "cell_type": "markdown",
   "metadata": {},
   "source": [
    "b. Implement the Markowitz Mean-Variance Optimization to find the optimal\n",
    "portfolio weights that maximize the Sharpe ratio\n"
   ]
  },
  {
   "cell_type": "code",
   "execution_count": 29,
   "metadata": {},
   "outputs": [
    {
     "name": "stdout",
     "output_type": "stream",
     "text": [
      "OrderedDict([('AAPL', 0.5813), ('GOOGL', 0.0), ('MSFT', 0.4187)])\n"
     ]
    }
   ],
   "source": [
    "from pypfopt.efficient_frontier import EfficientFrontier\n",
    "from pypfopt import risk_models\n",
    "from pypfopt import expected_returns\n",
    "mu = expected_returns.mean_historical_return(tickers_close)\n",
    "S = risk_models.sample_cov(tickers_close)\n",
    "\n",
    "ef = EfficientFrontier(mu, S)\n",
    "weights = ef.max_sharpe()\n",
    "clean_weights = ef.clean_weights()\n",
    "print(clean_weights)"
   ]
  },
  {
   "cell_type": "markdown",
   "metadata": {},
   "source": [
    "In this snippet we use the historical mean return $\\mu$ and the covariance matrix  $\\sigma$ to calculate the optimal portfolio weights that maximize the sharp ratio.\n",
    "\n",
    "Our output tells us that to maximize the Sharpe ratio as much as possible with our chosen tickers, we should put 58% of our portfolio into Apple and 42% into Microsoft, with none allocaiton going into Google."
   ]
  },
  {
   "cell_type": "markdown",
   "metadata": {},
   "source": [
    "c. Portfolio Metrics"
   ]
  },
  {
   "cell_type": "code",
   "execution_count": 30,
   "metadata": {},
   "outputs": [
    {
     "name": "stdout",
     "output_type": "stream",
     "text": [
      "Optimized Portfolio Weights:\n",
      "OrderedDict([('AAPL', 0.5813), ('GOOGL', 0.0), ('MSFT', 0.4187)])\n",
      "\n",
      "Portfolio Performance Metrics:\n",
      "Expected Annual Return: 34.47%\n",
      "Expected Annual Volatility: 29.27%\n",
      "Sharpe Ratio: 1.18\n"
     ]
    },
    {
     "name": "stderr",
     "output_type": "stream",
     "text": [
      "c:\\Users\\gianm\\AppData\\Local\\Programs\\Python\\Python310\\lib\\site-packages\\pypfopt\\efficient_frontier\\efficient_frontier.py:441: UserWarning: The risk_free_rate provided to portfolio_performance is different to the one used by max_sharpe. Using the previous value.\n",
      "  warnings.warn(\n"
     ]
    }
   ],
   "source": [
    "expected_return, expected_volatility, sharpe_ratio = ef.portfolio_performance(risk_free_rate=0.02)\n",
    "\n",
    "print(\"Optimized Portfolio Weights:\")\n",
    "print(clean_weights)\n",
    "print(\"\\nPortfolio Performance Metrics:\")\n",
    "print(f\"Expected Annual Return: {expected_return:.2%}\")\n",
    "print(f\"Expected Annual Volatility: {expected_volatility:.2%}\")\n",
    "print(f\"Sharpe Ratio: {sharpe_ratio:.2f}\")"
   ]
  },
  {
   "cell_type": "code",
   "execution_count": 31,
   "metadata": {},
   "outputs": [],
   "source": [
    "import tensorflow as tf\n",
    "from tensorflow.keras.models import Sequential\n",
    "from tensorflow.keras.layers import Dense, Softmax\n",
    "from tensorflow.keras.optimizers import Adam\n",
    "import numpy as np"
   ]
  },
  {
   "cell_type": "code",
   "execution_count": 32,
   "metadata": {},
   "outputs": [
    {
     "name": "stdout",
     "output_type": "stream",
     "text": [
      "1257\n",
      "[ 0.02586226  0.01342038 -0.01197102 ...  0.00647387 -0.011786\n",
      " -0.04043572]\n",
      "[[ 0.36611026  0.2627021   0.37118764]\n",
      " [ 0.42495631  0.22739791  0.34764577]\n",
      " [-0.0095976   0.70055412  0.30904349]\n",
      " ...\n",
      " [-0.18463319  0.44658297  0.73805023]\n",
      " [ 0.54431304  0.37768324  0.07800372]\n",
      " [ 0.15957491  0.61829256  0.22213253]]\n",
      "Ticker\n",
      "AAPL     0.358785\n",
      "GOOGL    0.202119\n",
      "MSFT     0.325215\n",
      "dtype: float64\n",
      "Epoch 1/20\n"
     ]
    },
    {
     "name": "stderr",
     "output_type": "stream",
     "text": [
      "c:\\Users\\gianm\\AppData\\Local\\Programs\\Python\\Python310\\lib\\site-packages\\keras\\src\\layers\\core\\dense.py:87: UserWarning: Do not pass an `input_shape`/`input_dim` argument to a layer. When using Sequential models, prefer using an `Input(shape)` object as the first layer in the model instead.\n",
      "  super().__init__(activity_regularizer=activity_regularizer, **kwargs)\n"
     ]
    },
    {
     "name": "stdout",
     "output_type": "stream",
     "text": [
      "\u001b[1m40/40\u001b[0m \u001b[32m━━━━━━━━━━━━━━━━━━━━\u001b[0m\u001b[37m\u001b[0m \u001b[1m1s\u001b[0m 1ms/step - loss: -0.0668   \n",
      "Epoch 2/20\n",
      "\u001b[1m40/40\u001b[0m \u001b[32m━━━━━━━━━━━━━━━━━━━━\u001b[0m\u001b[37m\u001b[0m \u001b[1m0s\u001b[0m 1ms/step - loss: -0.0698 \n",
      "Epoch 3/20\n",
      "\u001b[1m40/40\u001b[0m \u001b[32m━━━━━━━━━━━━━━━━━━━━\u001b[0m\u001b[37m\u001b[0m \u001b[1m0s\u001b[0m 1ms/step - loss: -0.0698 \n",
      "Epoch 4/20\n",
      "\u001b[1m40/40\u001b[0m \u001b[32m━━━━━━━━━━━━━━━━━━━━\u001b[0m\u001b[37m\u001b[0m \u001b[1m0s\u001b[0m 1ms/step - loss: -0.0698 \n",
      "Epoch 5/20\n",
      "\u001b[1m40/40\u001b[0m \u001b[32m━━━━━━━━━━━━━━━━━━━━\u001b[0m\u001b[37m\u001b[0m \u001b[1m0s\u001b[0m 1ms/step - loss: -0.0698 \n",
      "Epoch 6/20\n",
      "\u001b[1m40/40\u001b[0m \u001b[32m━━━━━━━━━━━━━━━━━━━━\u001b[0m\u001b[37m\u001b[0m \u001b[1m0s\u001b[0m 1ms/step - loss: -0.0698 \n",
      "Epoch 7/20\n",
      "\u001b[1m40/40\u001b[0m \u001b[32m━━━━━━━━━━━━━━━━━━━━\u001b[0m\u001b[37m\u001b[0m \u001b[1m0s\u001b[0m 1ms/step - loss: -0.0698 \n",
      "Epoch 8/20\n",
      "\u001b[1m40/40\u001b[0m \u001b[32m━━━━━━━━━━━━━━━━━━━━\u001b[0m\u001b[37m\u001b[0m \u001b[1m0s\u001b[0m 1ms/step - loss: -0.0698 \n",
      "Epoch 9/20\n",
      "\u001b[1m40/40\u001b[0m \u001b[32m━━━━━━━━━━━━━━━━━━━━\u001b[0m\u001b[37m\u001b[0m \u001b[1m0s\u001b[0m 1ms/step - loss: -0.0698 \n",
      "Epoch 10/20\n",
      "\u001b[1m40/40\u001b[0m \u001b[32m━━━━━━━━━━━━━━━━━━━━\u001b[0m\u001b[37m\u001b[0m \u001b[1m0s\u001b[0m 1ms/step - loss: -0.0698 \n",
      "Epoch 11/20\n",
      "\u001b[1m40/40\u001b[0m \u001b[32m━━━━━━━━━━━━━━━━━━━━\u001b[0m\u001b[37m\u001b[0m \u001b[1m0s\u001b[0m 1ms/step - loss: -0.0698 \n",
      "Epoch 12/20\n",
      "\u001b[1m40/40\u001b[0m \u001b[32m━━━━━━━━━━━━━━━━━━━━\u001b[0m\u001b[37m\u001b[0m \u001b[1m0s\u001b[0m 1ms/step - loss: -0.0698 \n",
      "Epoch 13/20\n",
      "\u001b[1m40/40\u001b[0m \u001b[32m━━━━━━━━━━━━━━━━━━━━\u001b[0m\u001b[37m\u001b[0m \u001b[1m0s\u001b[0m 1ms/step - loss: -0.0698 \n",
      "Epoch 14/20\n",
      "\u001b[1m40/40\u001b[0m \u001b[32m━━━━━━━━━━━━━━━━━━━━\u001b[0m\u001b[37m\u001b[0m \u001b[1m0s\u001b[0m 1ms/step - loss: -0.0698 \n",
      "Epoch 15/20\n",
      "\u001b[1m40/40\u001b[0m \u001b[32m━━━━━━━━━━━━━━━━━━━━\u001b[0m\u001b[37m\u001b[0m \u001b[1m0s\u001b[0m 1ms/step - loss: -0.0698 \n",
      "Epoch 16/20\n",
      "\u001b[1m40/40\u001b[0m \u001b[32m━━━━━━━━━━━━━━━━━━━━\u001b[0m\u001b[37m\u001b[0m \u001b[1m0s\u001b[0m 1ms/step - loss: -0.0698 \n",
      "Epoch 17/20\n",
      "\u001b[1m40/40\u001b[0m \u001b[32m━━━━━━━━━━━━━━━━━━━━\u001b[0m\u001b[37m\u001b[0m \u001b[1m0s\u001b[0m 1ms/step - loss: -0.0698 \n",
      "Epoch 18/20\n",
      "\u001b[1m40/40\u001b[0m \u001b[32m━━━━━━━━━━━━━━━━━━━━\u001b[0m\u001b[37m\u001b[0m \u001b[1m0s\u001b[0m 1ms/step - loss: -0.0698 \n",
      "Epoch 19/20\n",
      "\u001b[1m40/40\u001b[0m \u001b[32m━━━━━━━━━━━━━━━━━━━━\u001b[0m\u001b[37m\u001b[0m \u001b[1m0s\u001b[0m 1ms/step - loss: -0.0698 \n",
      "Epoch 20/20\n",
      "\u001b[1m40/40\u001b[0m \u001b[32m━━━━━━━━━━━━━━━━━━━━\u001b[0m\u001b[37m\u001b[0m \u001b[1m0s\u001b[0m 1ms/step - loss: -0.0698 \n",
      "\u001b[1m1/1\u001b[0m \u001b[32m━━━━━━━━━━━━━━━━━━━━\u001b[0m\u001b[37m\u001b[0m \u001b[1m0s\u001b[0m 37ms/step\n",
      "Optimized Portfolio Weights for target Sharpe ratio 1.0: [[0.7262 0.     0.2738]]\n"
     ]
    }
   ],
   "source": [
    "mean_returns = returns.mean()\n",
    "cov_matrix = returns.cov()\n",
    "risk_free_rate = 0.02 / 252  # Approximate daily risk-free rate\n",
    "\n",
    "X_train = returns.mean(axis=1).values\n",
    "y_train = returns.div(returns.sum(axis=1), axis=0).values \n",
    "\n",
    "\n",
    "print(len(X_train))\n",
    "print(X_train)\n",
    "print(y_train)\n",
    "print(mu)\n",
    "\n",
    "model = Sequential([\n",
    "    Dense(16, activation='relu', input_shape=(1,)),\n",
    "    Dense(16, activation='relu'),\n",
    "    Dense(len(tickers), activation='softmax')  # Ensures sum of weights = 1\n",
    "])\n",
    "\n",
    "def sharpe_loss(y_true, y_pred):\n",
    "    port_return = tf.reduce_sum(y_pred * mean_returns, axis=1)\n",
    "    port_variance = tf.einsum('bi,ij,bj->b', y_pred, cov_matrix, y_pred)  # Batch-wise variance computation\n",
    "    port_std = tf.sqrt(port_variance + 1e-6)  # Small epsilon to avoid division by zero\n",
    "    sharpe_ratio = (port_return - risk_free_rate) / port_std\n",
    "    return -tf.reduce_mean(sharpe_ratio) \n",
    "\n",
    "model.compile(optimizer=Adam(learning_rate=0.01), loss=sharpe_loss)\n",
    "model.fit(X_train, y_train, epochs=20, batch_size=32)\n",
    "\n",
    "# Example usage\n",
    "target_sharpe = 1.0  # Adjust target Sharpe ratio as needed\n",
    "nn_weights = model.predict(np.array([[target_sharpe]]))\n",
    "nn_weights = np.round(nn_weights,4)\n",
    "print(f\"Optimized Portfolio Weights for target Sharpe ratio {target_sharpe}: {nn_weights}\")"
   ]
  },
  {
   "cell_type": "markdown",
   "metadata": {},
   "source": [
    "Given the nature of the portfolio wieghts that sum,we make use of a softmax layer as it is indicative to this type of design."
   ]
  },
  {
   "cell_type": "code",
   "execution_count": 33,
   "metadata": {},
   "outputs": [
    {
     "name": "stdout",
     "output_type": "stream",
     "text": [
      "\n",
      "Portfolio Weigths\n",
      "[0.7262 0.     0.2738]\n",
      "\n",
      "Portfolio Performance Metrics:\n",
      "Expected Annual Return: 34.91%\n",
      "Expected Annual Volatility: 1.88%\n",
      "Sharpe Ratio: 17.50\n"
     ]
    }
   ],
   "source": [
    "print(\"\\nPortfolio Weigths\")\n",
    "nn_weights = np.array(nn_weights.flatten())\n",
    "print(nn_weights)\n",
    "nn_annualized_return = np.sum(nn_weights * mean_returns) * 252\n",
    "nn_annualized_volatility = np.sqrt(np.dot(nn_weights.T, np.dot(cov_matrix, nn_weights)))\n",
    "nn_sharpe_ratio = (nn_annualized_return - 0.02) / nn_annualized_volatility\n",
    "\n",
    "print(\"\\nPortfolio Performance Metrics:\")\n",
    "print(f\"Expected Annual Return: {nn_annualized_return:.2%}\")\n",
    "print(f\"Expected Annual Volatility: {nn_annualized_volatility:.2%}\")\n",
    "print(f\"Sharpe Ratio: {nn_sharpe_ratio:.2f}\")"
   ]
  }
 ],
 "metadata": {
  "kernelspec": {
   "display_name": "Python 3",
   "language": "python",
   "name": "python3"
  },
  "language_info": {
   "codemirror_mode": {
    "name": "ipython",
    "version": 3
   },
   "file_extension": ".py",
   "mimetype": "text/x-python",
   "name": "python",
   "nbconvert_exporter": "python",
   "pygments_lexer": "ipython3",
   "version": "3.10.0"
  }
 },
 "nbformat": 4,
 "nbformat_minor": 2
}
