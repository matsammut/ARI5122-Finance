{
 "cells": [
  {
   "cell_type": "code",
   "execution_count": 2,
   "metadata": {},
   "outputs": [
    {
     "name": "stdout",
     "output_type": "stream",
     "text": [
      "Collecting yahooquery\n",
      "  Downloading yahooquery-2.3.7-py3-none-any.whl (52 kB)\n",
      "Requirement already satisfied: beautifulsoup4<5.0.0,>=4.12.2 in c:\\users\\gianm\\appdata\\local\\programs\\python\\python310\\lib\\site-packages (from yahooquery) (4.12.3)\n",
      "Collecting lxml<5.0.0,>=4.9.3\n",
      "  Downloading lxml-4.9.4-cp310-cp310-win_amd64.whl (3.8 MB)\n",
      "Requirement already satisfied: requests<3.0.0,>=2.31.0 in c:\\users\\gianm\\appdata\\local\\programs\\python\\python310\\lib\\site-packages (from yahooquery) (2.32.3)\n",
      "Requirement already satisfied: pandas<3.0.0,>=2.0.3 in c:\\users\\gianm\\appdata\\local\\programs\\python\\python310\\lib\\site-packages (from yahooquery) (2.2.3)\n",
      "Collecting requests-futures<2.0.0,>=1.0.1\n",
      "  Downloading requests_futures-1.0.2-py2.py3-none-any.whl (7.7 kB)\n",
      "Collecting tqdm<5.0.0,>=4.65.0\n",
      "  Downloading tqdm-4.67.0-py3-none-any.whl (78 kB)\n",
      "Requirement already satisfied: soupsieve>1.2 in c:\\users\\gianm\\appdata\\local\\programs\\python\\python310\\lib\\site-packages (from beautifulsoup4<5.0.0,>=4.12.2->yahooquery) (2.6)\n",
      "Requirement already satisfied: pytz>=2020.1 in c:\\users\\gianm\\appdata\\local\\programs\\python\\python310\\lib\\site-packages (from pandas<3.0.0,>=2.0.3->yahooquery) (2024.2)\n",
      "Requirement already satisfied: python-dateutil>=2.8.2 in c:\\users\\gianm\\appdata\\roaming\\python\\python310\\site-packages (from pandas<3.0.0,>=2.0.3->yahooquery) (2.9.0.post0)\n",
      "Requirement already satisfied: tzdata>=2022.7 in c:\\users\\gianm\\appdata\\local\\programs\\python\\python310\\lib\\site-packages (from pandas<3.0.0,>=2.0.3->yahooquery) (2024.2)\n",
      "Requirement already satisfied: numpy>=1.22.4 in c:\\users\\gianm\\appdata\\local\\programs\\python\\python310\\lib\\site-packages (from pandas<3.0.0,>=2.0.3->yahooquery) (2.1.3)\n",
      "Requirement already satisfied: six>=1.5 in c:\\users\\gianm\\appdata\\roaming\\python\\python310\\site-packages (from python-dateutil>=2.8.2->pandas<3.0.0,>=2.0.3->yahooquery) (1.16.0)\n",
      "Requirement already satisfied: urllib3<3,>=1.21.1 in c:\\users\\gianm\\appdata\\local\\programs\\python\\python310\\lib\\site-packages (from requests<3.0.0,>=2.31.0->yahooquery) (2.2.3)\n",
      "Requirement already satisfied: idna<4,>=2.5 in c:\\users\\gianm\\appdata\\local\\programs\\python\\python310\\lib\\site-packages (from requests<3.0.0,>=2.31.0->yahooquery) (3.10)\n",
      "Requirement already satisfied: certifi>=2017.4.17 in c:\\users\\gianm\\appdata\\local\\programs\\python\\python310\\lib\\site-packages (from requests<3.0.0,>=2.31.0->yahooquery) (2024.8.30)\n",
      "Requirement already satisfied: charset-normalizer<4,>=2 in c:\\users\\gianm\\appdata\\local\\programs\\python\\python310\\lib\\site-packages (from requests<3.0.0,>=2.31.0->yahooquery) (3.4.0)\n",
      "Requirement already satisfied: colorama in c:\\users\\gianm\\appdata\\roaming\\python\\python310\\site-packages (from tqdm<5.0.0,>=4.65.0->yahooquery) (0.4.6)\n",
      "Installing collected packages: tqdm, requests-futures, lxml, yahooquery\n",
      "  Attempting uninstall: lxml\n",
      "    Found existing installation: lxml 5.3.0\n",
      "    Uninstalling lxml-5.3.0:\n",
      "      Successfully uninstalled lxml-5.3.0\n",
      "Note: you may need to restart the kernel to use updated packages.\n"
     ]
    },
    {
     "name": "stderr",
     "output_type": "stream",
     "text": [
      "  WARNING: The script tqdm.exe is installed in 'c:\\Users\\gianm\\AppData\\Local\\Programs\\Python\\Python310\\Scripts' which is not on PATH.\n",
      "  Consider adding this directory to PATH or, if you prefer to suppress this warning, use --no-warn-script-location.\n",
      "ERROR: Could not install packages due to an OSError: [WinError 5] Access is denied: 'C:\\\\Users\\\\gianm\\\\AppData\\\\Local\\\\Programs\\\\Python\\\\Python310\\\\Lib\\\\site-packages\\\\~xml\\\\etree.cp310-win_amd64.pyd'\n",
      "Consider using the `--user` option or check the permissions.\n",
      "\n",
      "WARNING: You are using pip version 21.2.3; however, version 24.3.1 is available.\n",
      "You should consider upgrading via the 'c:\\Users\\gianm\\AppData\\Local\\Programs\\Python\\Python310\\python.exe -m pip install --upgrade pip' command.\n"
     ]
    }
   ],
   "source": [
    "%pip install yahooquery"
   ]
  },
  {
   "cell_type": "code",
   "execution_count": null,
   "metadata": {},
   "outputs": [
    {
     "name": "stderr",
     "output_type": "stream",
     "text": [
      "[*********************100%***********************]  1 of 1 completed\n",
      "[*********************100%***********************]  1 of 1 completed\n",
      "[*********************100%***********************]  1 of 1 completed\n",
      "[*********************100%***********************]  1 of 1 completed\n",
      "[*********************100%***********************]  1 of 1 completed\n"
     ]
    }
   ],
   "source": [
    "import yfinance as yf\n",
    "import pandas as pd\n",
    "\n",
    "symbols = [ 'VFC',  'INLX', 'INVO', 'IONM']\n",
    "sectorDict = {}\n",
    "snpClosing = pd.DataFrame()  \n",
    "\n",
    "for sector in symbols:\n",
    "    snpSect = yf.download(tickers=sector,start=\"2019-01-01\" , end=\"2021-12-31\")\n",
    "    snpClosingSymbol = snpSect['Close'].reset_index()\n",
    "    snpClosingSymbol['Date'] = snpClosingSymbol['Date'].dt.strftime('%Y-%m-%d')\n",
    "    snpClosingSymbol[sector] = snpClosingSymbol[sector].round(2)\n",
    "    #snpClosingSymbol.drop(columns=['Close'], inplace=True)\n",
    "    snpClosingSymbol.set_index('Date', inplace=True)\n",
    "    if snpClosing.empty:\n",
    "        snpClosing = snpClosingSymbol\n",
    "    else:\n",
    "        snpClosing = pd.merge(snpClosing, snpClosingSymbol, on='Date', how='outer')\n",
    "\n",
    "#snpClosing.set_index('Date', inplace=True)\n",
    "snpClosing.to_csv(\"snp_sectors.csv\")"
   ]
  }
 ],
 "metadata": {
  "kernelspec": {
   "display_name": "Python 3",
   "language": "python",
   "name": "python3"
  },
  "language_info": {
   "codemirror_mode": {
    "name": "ipython",
    "version": 3
   },
   "file_extension": ".py",
   "mimetype": "text/x-python",
   "name": "python",
   "nbconvert_exporter": "python",
   "pygments_lexer": "ipython3",
   "version": "3.10.0"
  }
 },
 "nbformat": 4,
 "nbformat_minor": 2
}
